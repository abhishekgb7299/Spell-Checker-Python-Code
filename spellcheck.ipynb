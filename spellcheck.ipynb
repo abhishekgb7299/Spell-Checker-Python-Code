{
  "nbformat": 4,
  "nbformat_minor": 0,
  "metadata": {
    "colab": {
      "name": "spellcheck.ipynb",
      "provenance": [],
      "collapsed_sections": []
    },
    "kernelspec": {
      "name": "python3",
      "display_name": "Python 3"
    }
  },
  "cells": [
    {
      "cell_type": "markdown",
      "metadata": {
        "id": "z3_VCVr559_m",
        "colab_type": "text"
      },
      "source": [
        "#Spelling checker in Python\n",
        "\n",
        "Using textblob library"
      ]
    },
    {
      "cell_type": "code",
      "metadata": {
        "id": "oCK_noBA6KNb",
        "colab_type": "code",
        "colab": {
          "base_uri": "https://localhost:8080/",
          "height": 67
        },
        "outputId": "dd373e2e-f2a0-486f-f7e4-7758477b905b"
      },
      "source": [
        "import sys  \n",
        "!{sys.executable} -m pip install textblob "
      ],
      "execution_count": 5,
      "outputs": [
        {
          "output_type": "stream",
          "text": [
            "Requirement already satisfied: textblob in /usr/local/lib/python3.6/dist-packages (0.15.3)\n",
            "Requirement already satisfied: nltk>=3.1 in /usr/local/lib/python3.6/dist-packages (from textblob) (3.2.5)\n",
            "Requirement already satisfied: six in /usr/local/lib/python3.6/dist-packages (from nltk>=3.1->textblob) (1.15.0)\n"
          ],
          "name": "stdout"
        }
      ]
    },
    {
      "cell_type": "code",
      "metadata": {
        "id": "Jlxi6eHc5mvu",
        "colab_type": "code",
        "colab": {
          "base_uri": "https://localhost:8080/",
          "height": 67
        },
        "outputId": "5c514fe1-4512-45a8-a76e-588980b96886"
      },
      "source": [
        "from textblob import TextBlob \n",
        "  \n",
        "a = input()          # incorrect spelling \n",
        "print(\"original text: \"+str(a)) \n",
        "  \n",
        "b = TextBlob(a) \n",
        "  \n",
        "# prints the corrected spelling \n",
        "print(\"corrected text: \"+str(b.correct()))"
      ],
      "execution_count": 6,
      "outputs": [
        {
          "output_type": "stream",
          "text": [
            "computar\n",
            "original text: computar\n",
            "corrected text: computer\n"
          ],
          "name": "stdout"
        }
      ]
    }
  ]
}